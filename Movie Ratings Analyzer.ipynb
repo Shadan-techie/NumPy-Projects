{
 "cells": [
  {
   "cell_type": "markdown",
   "id": "8e881a15",
   "metadata": {},
   "source": [
    "### 🎯 Goal:\n",
    "Analyze a dataset of movies (titles, genres, ratings) and calculate:\n",
    "\n",
    "- Average rating\n",
    "\n",
    "- Highest & lowest rated movies\n",
    "\n",
    "- Ratings by genre\n",
    "\n",
    "- Count of movies per genre\n",
    "\n",
    "- Optional: Plot charts"
   ]
  },
  {
   "cell_type": "markdown",
   "id": "898d25cd",
   "metadata": {},
   "source": [
    "### Step 1: Sample Data Setup (Or load from CSV)"
   ]
  },
  {
   "cell_type": "code",
   "execution_count": null,
   "id": "de4b428d",
   "metadata": {},
   "outputs": [],
   "source": [
    "import numpy as np\n",
    "\n",
    "# Sample structured data\n",
    "data = np.array([\n",
    "    ['Movie A', 'Action', 8.2],\n",
    "    ['Movie B', 'Comedy', 7.5],\n",
    "    ['Movie C', 'Drama', 9.0],\n",
    "    ['Movie D', 'Action', 6.5],\n",
    "    ['Movie E', 'Comedy', 8.1],\n",
    "    ['Movie F', 'Drama', 7.9],\n",
    "    ['Movie G', 'Action', 9.1],\n",
    "])"
   ]
  },
  {
   "cell_type": "markdown",
   "id": "8470a176",
   "metadata": {},
   "source": [
    "If you're using CSV (optional):"
   ]
  },
  {
   "cell_type": "code",
   "execution_count": 5,
   "id": "a0c1e392",
   "metadata": {},
   "outputs": [],
   "source": [
    "import pandas as pd\n",
    "# df = pd.read_csv('movies.csv')  # CSV with columns: Title, Genre, Rating"
   ]
  },
  {
   "cell_type": "markdown",
   "id": "f6d5cba2",
   "metadata": {},
   "source": [
    "### Step 2: Extract Columns"
   ]
  },
  {
   "cell_type": "code",
   "execution_count": 6,
   "id": "38cc1e9c",
   "metadata": {},
   "outputs": [],
   "source": [
    "titles = data[:, 0]\n",
    "genres = data[:, 1]\n",
    "ratings = data[:, 2].astype(float)"
   ]
  },
  {
   "cell_type": "markdown",
   "id": "b7fb051b",
   "metadata": {},
   "source": [
    "### Step 3: Overall Stats"
   ]
  },
  {
   "cell_type": "code",
   "execution_count": 7,
   "id": "04f4b885",
   "metadata": {},
   "outputs": [
    {
     "name": "stdout",
     "output_type": "stream",
     "text": [
      "🎯 Average Rating: 8.042857142857143\n",
      "🔥 Highest Rated Movie: Movie G - 9.1\n",
      "💩 Lowest Rated Movie: Movie D - 6.5\n"
     ]
    }
   ],
   "source": [
    "print(\"🎯 Average Rating:\", np.mean(ratings))\n",
    "print(\"🔥 Highest Rated Movie:\", titles[np.argmax(ratings)], \"-\", np.max(ratings))\n",
    "print(\"💩 Lowest Rated Movie:\", titles[np.argmin(ratings)], \"-\", np.min(ratings))"
   ]
  },
  {
   "cell_type": "markdown",
   "id": "3639e06f",
   "metadata": {},
   "source": [
    "### Step 4: Ratings by Genre"
   ]
  },
  {
   "cell_type": "code",
   "execution_count": 8,
   "id": "bb85e29b",
   "metadata": {},
   "outputs": [
    {
     "name": "stdout",
     "output_type": "stream",
     "text": [
      "\n",
      "📽 Genre: Action\n",
      "  ➤ Average Rating: 7.93\n",
      "  ➤ Count of Movies: 3\n",
      "\n",
      "📽 Genre: Comedy\n",
      "  ➤ Average Rating: 7.80\n",
      "  ➤ Count of Movies: 2\n",
      "\n",
      "📽 Genre: Drama\n",
      "  ➤ Average Rating: 8.45\n",
      "  ➤ Count of Movies: 2\n"
     ]
    }
   ],
   "source": [
    "unique_genres = np.unique(genres)\n",
    "\n",
    "for genre in unique_genres:\n",
    "    genre_ratings = ratings[genres == genre]\n",
    "    print(f\"\\n📽 Genre: {genre}\")\n",
    "    print(f\"  ➤ Average Rating: {np.mean(genre_ratings):.2f}\")\n",
    "    print(f\"  ➤ Count of Movies: {len(genre_ratings)}\")"
   ]
  },
  {
   "cell_type": "markdown",
   "id": "cf3d2b57",
   "metadata": {},
   "source": [
    "### Optional: Add Charts with Matplotlib"
   ]
  },
  {
   "cell_type": "code",
   "execution_count": 9,
   "id": "aa15d112",
   "metadata": {},
   "outputs": [
    {
     "data": {
      "image/png": "[encoded data removed]",
      "text/plain": [
       "<Figure size 640x480 with 1 Axes>"
      ]
     },
     "metadata": {},
     "output_type": "display_data"
    }
   ],
   "source": [
    "import matplotlib.pyplot as plt\n",
    "\n",
    "# Bar chart of average rating per genre\n",
    "avg_ratings = [np.mean(ratings[genres == g]) for g in unique_genres]\n",
    "plt.bar(unique_genres, avg_ratings, color='skyblue')\n",
    "plt.title(\"Average Rating per Genre\")\n",
    "plt.ylabel(\"Rating\")\n",
    "plt.xlabel(\"Genre\")\n",
    "plt.ylim(0, 10)\n",
    "plt.grid(True)\n",
    "plt.show()"
   ]
  }
 ],
 "metadata": {
  "kernelspec": {
   "display_name": "Python 3",
   "language": "python",
   "name": "python3"
  },
  "language_info": {
   "codemirror_mode": {
    "name": "ipython",
    "version": 3
   },
   "file_extension": ".py",
   "mimetype": "text/x-python",
   "name": "python",
   "nbconvert_exporter": "python",
   "pygments_lexer": "ipython3",
   "version": "3.9.7"
  }
 },
 "nbformat": 4,
 "nbformat_minor": 5
}
