{
 "cells": [
  {
   "cell_type": "markdown",
   "id": "a0d9aabd",
   "metadata": {},
   "source": [
    "### 🎯 Goal:\n",
    "Create a function that checks if a given 9×9 Sudoku board is valid — meaning:\n",
    "\n",
    "- Each row must have digits 1-9 with no repetition.\n",
    "\n",
    "- Each column must have digits 1-9 with no repetition.\n",
    "\n",
    "- Each of the 9 subgrids (3×3) must also have digits 1-9 with no repetition."
   ]
  },
  {
   "cell_type": "markdown",
   "id": "c98d350a",
   "metadata": {},
   "source": [
    "### Step 1: Import Libraries"
   ]
  },
  {
   "cell_type": "code",
   "execution_count": 7,
   "id": "d7709766",
   "metadata": {},
   "outputs": [],
   "source": [
    "import numpy as np"
   ]
  },
  {
   "cell_type": "markdown",
   "id": "be7cf68f",
   "metadata": {},
   "source": [
    "### Step 2: Sample Sudoku Board (Correct One)"
   ]
  },
  {
   "cell_type": "code",
   "execution_count": 8,
   "id": "96c92126",
   "metadata": {},
   "outputs": [
    {
     "name": "stdout",
     "output_type": "stream",
     "text": [
      "(9, 9)\n"
     ]
    }
   ],
   "source": [
    "# Sudoku Rules Recap:\n",
    "## Each row must contain the digits 1-9 exactly once (no duplicates).\n",
    "## Each column must contain the digits 1-9 exactly once.\n",
    "## Each 3×3 subgrid must contain the digits 1-9 exactly once.\n",
    "\n",
    "board = np.array([\n",
    "    [5, 3, 4, 6, 7, 8, 9, 1, 2],\n",
    "    [6, 7, 2, 1, 9, 5, 3, 4, 8],\n",
    "    [1, 9, 8, 3, 4, 2, 5, 6, 7],\n",
    "    [8, 5, 9, 7, 6, 1, 4, 2, 3],\n",
    "    [4, 2, 6, 8, 5, 3, 7, 9, 1],\n",
    "    [7, 1, 3, 9, 2, 4, 8, 5, 6],\n",
    "    [9, 6, 1, 5, 3, 7, 2, 8, 4],\n",
    "    [2, 8, 7, 4, 1, 9, 6, 3, 5],\n",
    "    [3, 4, 5, 2, 8, 6, 1, 7, 9]\n",
    "])\n",
    "\n",
    "print(board.shape)  # Output: (9, 9)       optional,, just to check"
   ]
  },
  {
   "cell_type": "markdown",
   "id": "4f5a93d8",
   "metadata": {},
   "source": [
    "### Step 3: Helper Function – Is 1-9 Unique?"
   ]
  },
  {
   "cell_type": "code",
   "execution_count": 9,
   "id": "4fd1b4bc",
   "metadata": {},
   "outputs": [],
   "source": [
    "def is_valid_group(group):\n",
    "    return sorted(group) == list(range(1, 10))"
   ]
  },
  {
   "cell_type": "markdown",
   "id": "9fa99176",
   "metadata": {},
   "source": [
    "### Step 4: Check Rows, Columns, and 3×3 Subgrids"
   ]
  },
  {
   "cell_type": "code",
   "execution_count": 10,
   "id": "20d87e8a",
   "metadata": {},
   "outputs": [],
   "source": [
    "def is_valid_sudoku(board):\n",
    "    # Check rows\n",
    "    for row in board:\n",
    "        if not is_valid_group(row):\n",
    "            return False\n",
    "\n",
    "    # Check columns\n",
    "    for col in board.T:\n",
    "        if not is_valid_group(col):\n",
    "            return False\n",
    "\n",
    "    # Check 3×3 subgrids\n",
    "    for i in range(0, 9, 3):  # 0, 3, 6\n",
    "        for j in range(0, 9, 3):\n",
    "            subgrid = board[i:i+3, j:j+3].flatten()\n",
    "            if not is_valid_group(subgrid):\n",
    "                return False\n",
    "\n",
    "    return True"
   ]
  },
  {
   "cell_type": "markdown",
   "id": "cafbf976",
   "metadata": {},
   "source": [
    "### Step 5: Validate the Board"
   ]
  },
  {
   "cell_type": "code",
   "execution_count": 12,
   "id": "23fab9ed",
   "metadata": {},
   "outputs": [
    {
     "name": "stdout",
     "output_type": "stream",
     "text": [
      "✅ The Sudoku board is VALID.\n"
     ]
    }
   ],
   "source": [
    "if is_valid_sudoku(board):\n",
    "    print(\"✅ The Sudoku board is VALID.\")\n",
    "else:\n",
    "    print(\"❌ The Sudoku board is INVALID.\")"
   ]
  }
 ],
 "metadata": {
  "kernelspec": {
   "display_name": "Python 3",
   "language": "python",
   "name": "python3"
  },
  "language_info": {
   "codemirror_mode": {
    "name": "ipython",
    "version": 3
   },
   "file_extension": ".py",
   "mimetype": "text/x-python",
   "name": "python",
   "nbconvert_exporter": "python",
   "pygments_lexer": "ipython3",
   "version": "3.12.0"
  }
 },
 "nbformat": 4,
 "nbformat_minor": 5
}
