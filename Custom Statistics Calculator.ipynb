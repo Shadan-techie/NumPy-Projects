{
 "cells": [
  {
   "cell_type": "markdown",
   "id": "a11e0390",
   "metadata": {},
   "source": [
    "### 🎯 Goal:\n",
    "Build a calculator that computes the following from a NumPy array:\n",
    "\n",
    "- Mean\n",
    "\n",
    "- Median\n",
    "\n",
    "- Mode\n",
    "\n",
    "- Standard Deviation\n",
    "\n",
    "- Variance\n",
    "\n",
    "- Min & Max\n",
    "\n",
    "- Range\n",
    "\n",
    "- Quartiles\n",
    "\n",
    "- Optional: Custom percentiles"
   ]
  },
  {
   "cell_type": "markdown",
   "id": "430a4e62",
   "metadata": {},
   "source": [
    "### Step 1: Import Required Libraries"
   ]
  },
  {
   "cell_type": "code",
   "execution_count": 7,
   "id": "90cc5cfc",
   "metadata": {},
   "outputs": [],
   "source": [
    "import numpy as np \n",
    "from collections import Counter"
   ]
  },
  {
   "cell_type": "markdown",
   "id": "9769140e",
   "metadata": {},
   "source": [
    "### Step 2: Create Sample Data"
   ]
  },
  {
   "cell_type": "code",
   "execution_count": 8,
   "id": "fc73a751",
   "metadata": {},
   "outputs": [],
   "source": [
    "data = np.array([10, 20, 20, 40, 30, 50, 60, 70, 20])\n",
    "\n",
    "# For user input:\n",
    "# data = np.array(list(map(int, input(\"Enter numbers separated by spaces: \").split())))"
   ]
  },
  {
   "cell_type": "markdown",
   "id": "ec88ae29",
   "metadata": {},
   "source": [
    "### Step 3: Define Statistic Functions"
   ]
  },
  {
   "cell_type": "code",
   "execution_count": 9,
   "id": "94e83502",
   "metadata": {},
   "outputs": [],
   "source": [
    "def mean(data):\n",
    "    return np.mean(data)\n",
    "\n",
    "def median(data):\n",
    "    return np.median(data)\n",
    "\n",
    "def mode(data):\n",
    "    count = Counter(data)\n",
    "    max_freq = max(count.values())\n",
    "    modes = [k for k, v in count.items() if v == max_freq]\n",
    "    return modes\n",
    "\n",
    "def standard_deviation(data):\n",
    "    return np.std(data)\n",
    "\n",
    "def variance(data):\n",
    "    return np.var(data)\n",
    "\n",
    "def data_range(data):\n",
    "    return np.max(data) - np.min(data)\n",
    "\n",
    "def quartiles(data):\n",
    "    return np.percentile(data, [25, 50, 75])\n",
    "\n",
    "def min_max(data):\n",
    "    return np.min(data), np.max(data)\n",
    "\n",
    "def percentile(data, p):\n",
    "    return np.percentile(data, p)"
   ]
  },
  {
   "cell_type": "markdown",
   "id": "8ff12e6b",
   "metadata": {},
   "source": [
    "### Step 4: Display All Statistics"
   ]
  },
  {
   "cell_type": "code",
   "execution_count": 10,
   "id": "779c6262",
   "metadata": {},
   "outputs": [
    {
     "name": "stdout",
     "output_type": "stream",
     "text": [
      "Data: [10 20 20 40 30 50 60 70 20]\n",
      "Mean: 35.55555555555556\n",
      "Median: 30.0\n",
      "Mode: [np.int64(20)]\n",
      "Standard Deviation: 19.499920860871384\n",
      "Variance: 380.24691358024694\n",
      "Range: 60\n",
      "Min, Max: (np.int64(10), np.int64(70))\n",
      "Quartiles (Q1, Q2, Q3): [20. 30. 50.]\n",
      "90th Percentile: 62.0\n"
     ]
    }
   ],
   "source": [
    "print(\"Data:\", data)\n",
    "print(\"Mean:\", mean(data))\n",
    "print(\"Median:\", median(data))\n",
    "print(\"Mode:\", mode(data))\n",
    "print(\"Standard Deviation:\", standard_deviation(data))\n",
    "print(\"Variance:\", variance(data))\n",
    "print(\"Range:\", data_range(data))\n",
    "print(\"Min, Max:\", min_max(data))\n",
    "print(\"Quartiles (Q1, Q2, Q3):\", quartiles(data))\n",
    "print(\"90th Percentile:\", percentile(data, 90))\n"
   ]
  }
 ],
 "metadata": {
  "kernelspec": {
   "display_name": "Python 3",
   "language": "python",
   "name": "python3"
  },
  "language_info": {
   "codemirror_mode": {
    "name": "ipython",
    "version": 3
   },
   "file_extension": ".py",
   "mimetype": "text/x-python",
   "name": "python",
   "nbconvert_exporter": "python",
   "pygments_lexer": "ipython3",
   "version": "3.12.0"
  }
 },
 "nbformat": 4,
 "nbformat_minor": 5
}
