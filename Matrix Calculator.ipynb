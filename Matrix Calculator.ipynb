{
 "cells": [
  {
   "cell_type": "markdown",
   "id": "b39669e3",
   "metadata": {},
   "source": [
    "### Matrix Calculator using NumPy\n",
    "\n",
    "This project will include the following operations:\n",
    "\n",
    "✅ Features:\n",
    "\n",
    "Matrix Addition\n",
    "\n",
    "Matrix Subtraction\n",
    "\n",
    "Matrix Multiplication\n",
    "\n",
    "Matrix Transpose\n",
    "\n",
    "Optional: Determinant & Inverse\n"
   ]
  },
  {
   "cell_type": "markdown",
   "id": "fe34401b",
   "metadata": {},
   "source": [
    "### Step 1: Setup\n",
    "Make sure NumPy is installed:"
   ]
  },
  {
   "cell_type": "code",
   "execution_count": 4,
   "id": "64e98aeb",
   "metadata": {},
   "outputs": [
    {
     "name": "stdout",
     "output_type": "stream",
     "text": [
      "Requirement already satisfied: numpy in c:\\users\\hp\\python\\venv\\lib\\site-packages (2.2.5)\n"
     ]
    }
   ],
   "source": [
    "!pip install numpy"
   ]
  },
  {
   "cell_type": "markdown",
   "id": "1098c34d",
   "metadata": {},
   "source": [
    "Then, import it in your Python script:"
   ]
  },
  {
   "cell_type": "code",
   "execution_count": 2,
   "id": "3ba21388",
   "metadata": {},
   "outputs": [],
   "source": [
    "import numpy as np"
   ]
  },
  {
   "cell_type": "markdown",
   "id": "6fc9a75e",
   "metadata": {},
   "source": [
    "### Step 2: Take Matrix Input\n",
    "Let’s define a function to take a matrix as input from the user:"
   ]
  },
  {
   "cell_type": "code",
   "execution_count": null,
   "id": "69d02697",
   "metadata": {},
   "outputs": [],
   "source": [
    "def input_matrix(name):\n",
    "    rows = int(input(f\"Enter number of rows for {name}\"))\n",
    "    cols = int(input(f\"Enter number of columns for {name}\"))\n",
    "    print(f\"Enter the elements for {name} row by row, space-separated: \")\n",
    "\n",
    "    matrix = []\n",
    "    for i in range(rows):\n",
    "        row = list(map(float, input(f\"Row {i+1}: \").split()))\n",
    "        if len(row) != cols:\n",
    "            raise ValueError(\"Incorrect number of elements in the row.\")\n",
    "        matrix.append(row)\n",
    "\n",
    "    return np.array(matrix)"
   ]
  },
  {
   "cell_type": "markdown",
   "id": "b3d09619",
   "metadata": {},
   "source": [
    "### Step 3: Define Operations"
   ]
  },
  {
   "cell_type": "code",
   "execution_count": 5,
   "id": "e9932cb6",
   "metadata": {},
   "outputs": [],
   "source": [
    "def add_matrices(A, B):\n",
    "    return A + B\n",
    "\n",
    "def subtract_matrices(A, B):\n",
    "    return A - B\n",
    "\n",
    "def multiply_matrices(A, B):\n",
    "    return np.dot(A, B)\n",
    "\n",
    "def transpose_matrix(A):\n",
    "    return A.T\n",
    "\n",
    "def inverse_matrix(A):\n",
    "    return np.linalg.inv(A)\n",
    "\n",
    "def determinant_matrix(A):\n",
    "    return np.linalg.det(A)\n"
   ]
  },
  {
   "cell_type": "markdown",
   "id": "035e12c1",
   "metadata": {},
   "source": [
    "### Step 4: User Menu"
   ]
  },
  {
   "cell_type": "code",
   "execution_count": 6,
   "id": "2d08f315",
   "metadata": {},
   "outputs": [],
   "source": [
    "def display_menu():\n",
    "    print(\"\\nMatrix Calculator Menu:\")\n",
    "    print(\"1. Add Matrices\")\n",
    "    print(\"2. Subtract Matrices\")\n",
    "    print(\"3. Multiply Matrices\")\n",
    "    print(\"4. Transpose Matrix\")\n",
    "    print(\"5. Determinant of Matrix\")\n",
    "    print(\"6. Inverse of Matrix\")\n",
    "    print(\"7. Exit\")\n"
   ]
  },
  {
   "cell_type": "markdown",
   "id": "d98dc199",
   "metadata": {},
   "source": [
    "### 🏁 Step 5: Main Program Loop"
   ]
  },
  {
   "cell_type": "code",
   "execution_count": 7,
   "id": "144633f2",
   "metadata": {},
   "outputs": [],
   "source": [
    "def main():\n",
    "    while True:\n",
    "        display_menu()\n",
    "        choice = input(\"Choose an operation (1-7): \")\n",
    "\n",
    "        if choice in ['1', '2', '3']:\n",
    "            A = input_matrix(\"Matrix A\")\n",
    "            B = input_matrix(\"Matrix B\")\n",
    "            \n",
    "            if choice == '1':\n",
    "                print(\"Result:\\n\", add_matrices(A, B))\n",
    "            elif choice == '2':\n",
    "                print(\"Result:\\n\", subtract_matrices(A, B))\n",
    "            elif choice == '3':\n",
    "                try:\n",
    "                    print(\"Result:\\n\", multiply_matrices(A, B))\n",
    "                except ValueError:\n",
    "                    print(\"Error: Incompatible matrix sizes for multiplication.\")\n",
    "\n",
    "        elif choice in ['4', '5', '6']:\n",
    "            A = input_matrix(\"Matrix A\")\n",
    "\n",
    "            if choice == '4':\n",
    "                print(\"Transpose:\\n\", transpose_matrix(A))\n",
    "            elif choice == '5':\n",
    "                if A.shape[0] == A.shape[1]:\n",
    "                    print(\"Determinant:\", determinant_matrix(A))\n",
    "                else:\n",
    "                    print(\"Matrix must be square for determinant.\")\n",
    "            elif choice == '6':\n",
    "                if A.shape[0] == A.shape[1]:\n",
    "                    try:\n",
    "                        print(\"Inverse:\\n\", inverse_matrix(A))\n",
    "                    except np.linalg.LinAlgError:\n",
    "                        print(\"Matrix is singular and cannot be inverted.\")\n",
    "                else:\n",
    "                    print(\"Matrix must be square for inverse.\")\n",
    "\n",
    "        elif choice == '7':\n",
    "            print(\"Exiting Matrix Calculator.\")\n",
    "            break\n",
    "        else:\n",
    "            print(\"Invalid choice. Try again.\")\n"
   ]
  },
  {
   "cell_type": "markdown",
   "id": "87f1a59b",
   "metadata": {},
   "source": [
    "### 🚀 Final Step: Run the App"
   ]
  },
  {
   "cell_type": "code",
   "execution_count": 18,
   "id": "63253fc2",
   "metadata": {},
   "outputs": [
    {
     "name": "stdout",
     "output_type": "stream",
     "text": [
      "\n",
      "Matrix Calculator Menu:\n",
      "1. Add Matrices\n",
      "2. Subtract Matrices\n",
      "3. Multiply Matrices\n",
      "4. Transpose Matrix\n",
      "5. Determinant of Matrix\n",
      "6. Inverse of Matrix\n",
      "7. Exit\n",
      "Exiting Matrix Calculator.\n"
     ]
    }
   ],
   "source": [
    "if __name__ == \"__main__\":\n",
    "    main()\n"
   ]
  }
 ],
 "metadata": {
  "kernelspec": {
   "display_name": "Python 3",
   "language": "python",
   "name": "python3"
  },
  "language_info": {
   "codemirror_mode": {
    "name": "ipython",
    "version": 3
   },
   "file_extension": ".py",
   "mimetype": "text/x-python",
   "name": "python",
   "nbconvert_exporter": "python",
   "pygments_lexer": "ipython3",
   "version": "3.12.0"
  }
 },
 "nbformat": 4,
 "nbformat_minor": 5
}
