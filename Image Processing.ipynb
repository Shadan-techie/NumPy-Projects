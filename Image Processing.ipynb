{
 "cells": [
  {
   "cell_type": "markdown",
   "id": "88afd31a",
   "metadata": {},
   "source": [
    "### 🧾 Project: Basic Image Processing with NumPy\n",
    "\n",
    "We will:\n",
    "\n",
    "✅ Load an image as a NumPy array\n",
    "\n",
    "✅ Convert to grayscale\n",
    "\n",
    "✅ Flip, rotate, and apply a simple blur\n",
    "\n",
    "✅ Save the modified images"
   ]
  },
  {
   "cell_type": "markdown",
   "id": "95aaf5af",
   "metadata": {},
   "source": [
    "### 🧱 Step 1: Install Required Libraries\n",
    "\n",
    "We’ll use Pillow to open and save images, and NumPy to manipulate pixel data."
   ]
  },
  {
   "cell_type": "code",
   "execution_count": 13,
   "id": "5d1b4d8d",
   "metadata": {},
   "outputs": [
    {
     "name": "stdout",
     "output_type": "stream",
     "text": [
      "Requirement already satisfied: pillow in c:\\users\\hp\\python\\venv\\lib\\site-packages (11.2.1)\n",
      "Requirement already satisfied: numpy in c:\\users\\hp\\python\\venv\\lib\\site-packages (2.2.5)\n",
      "Note: you may need to restart the kernel to use updated packages.\n"
     ]
    }
   ],
   "source": [
    "pip install pillow numpy"
   ]
  },
  {
   "cell_type": "markdown",
   "id": "9f096350",
   "metadata": {},
   "source": [
    "### 🖼️ Step 2: Load an Image"
   ]
  },
  {
   "cell_type": "code",
   "execution_count": 14,
   "id": "7b5057f6",
   "metadata": {},
   "outputs": [
    {
     "name": "stdout",
     "output_type": "stream",
     "text": [
      "Original shape: (981, 736, 3)\n"
     ]
    }
   ],
   "source": [
    "from PIL import Image\n",
    "import numpy as np\n",
    "\n",
    "# Load the image and convert to RGB\n",
    "image_path = \"Image/chia_pudding.jpeg\"\n",
    "image = Image.open(image_path).convert('RGB')\n",
    "image_array = np.array(image)\n",
    "\n",
    "print(\"Original shape:\", image_array.shape)  # e.g. (height, width, 3)\n"
   ]
  },
  {
   "cell_type": "markdown",
   "id": "83ceafec",
   "metadata": {},
   "source": [
    "### Step 3: Convert to Grayscale"
   ]
  },
  {
   "cell_type": "code",
   "execution_count": 15,
   "id": "2996a53f",
   "metadata": {},
   "outputs": [],
   "source": [
    "def rgb_to_grayscale(img_array):\n",
    "    # Using luminosity method: 0.2989 R + 0.5870 G + 0.1140 B\n",
    "    grayscale = np.dot(img_array[...,:3], [0.2989, 0.5870, 0.1140])\n",
    "    return grayscale.astype(np.uint8)\n",
    "\n",
    "gray_array = rgb_to_grayscale(image_array)\n",
    "gray_image = Image.fromarray(gray_array)\n",
    "gray_image.save(\"grayscale.jpg\")\n"
   ]
  },
  {
   "cell_type": "markdown",
   "id": "445d5980",
   "metadata": {},
   "source": [
    "### Step 4: Flip the Image"
   ]
  },
  {
   "cell_type": "code",
   "execution_count": 16,
   "id": "34889b95",
   "metadata": {},
   "outputs": [],
   "source": [
    "# Flip horizontally\n",
    "flipped_h = np.fliplr(image_array)\n",
    "Image.fromarray(flipped_h).save(\"flipped_horizontal.jpg\")\n",
    "\n",
    "# Flip vertically\n",
    "flipped_v = np.flipud(image_array)\n",
    "Image.fromarray(flipped_v).save(\"flipped_vertical.jpg\")\n"
   ]
  },
  {
   "cell_type": "markdown",
   "id": "a08ae10a",
   "metadata": {},
   "source": [
    "### Step 5: Rotate the Image (90 Degrees)"
   ]
  },
  {
   "cell_type": "code",
   "execution_count": 17,
   "id": "dec2e78f",
   "metadata": {},
   "outputs": [],
   "source": [
    "# Rotate 90 degrees counter-clockwise\n",
    "rotated = np.rot90(image_array)\n",
    "Image.fromarray(rotated).save(\"rotated_90.jpg\")\n"
   ]
  },
  {
   "cell_type": "markdown",
   "id": "3308b81c",
   "metadata": {},
   "source": [
    "### Step 6: Simple Blur Filter (Box Blur)"
   ]
  },
  {
   "cell_type": "code",
   "execution_count": 19,
   "id": "011ce284",
   "metadata": {},
   "outputs": [],
   "source": [
    "def blur_image(img_array, kernel_size=3):\n",
    "    height, width, channels = img_array.shape\n",
    "    pad = kernel_size // 2\n",
    "    padded = np.pad(img_array, ((pad, pad), (pad, pad), (0, 0)), mode='constant')\n",
    "    blurred = np.zeros_like(img_array)\n",
    "\n",
    "    for i in range(height):\n",
    "        for j in range(width):\n",
    "            for c in range(channels):\n",
    "                blurred[i, j, c] = np.mean(\n",
    "                    padded[i:i+kernel_size, j:j+kernel_size, c]\n",
    "                )\n",
    "    return blurred.astype(np.uint8)\n",
    "\n",
    "blurred_image = blur_image(image_array, kernel_size=5)\n",
    "Image.fromarray(blurred_image).save(\"blurred.jpg\")\n"
   ]
  }
 ],
 "metadata": {
  "kernelspec": {
   "display_name": "Python 3",
   "language": "python",
   "name": "python3"
  },
  "language_info": {
   "codemirror_mode": {
    "name": "ipython",
    "version": 3
   },
   "file_extension": ".py",
   "mimetype": "text/x-python",
   "name": "python",
   "nbconvert_exporter": "python",
   "pygments_lexer": "ipython3",
   "version": "3.12.0"
  }
 },
 "nbformat": 4,
 "nbformat_minor": 5
}
