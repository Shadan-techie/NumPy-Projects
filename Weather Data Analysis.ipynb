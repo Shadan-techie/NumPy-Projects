{
 "cells": [
  {
   "cell_type": "markdown",
   "id": "b0fdc721",
   "metadata": {},
   "source": [
    "### 📊 Project Goal\n",
    "Analyze daily temperature data over 1 year :\n",
    "\n",
    "- Find average temperature\n",
    "\n",
    "- Detect hottest and coldest days\n",
    "\n",
    "- Calculate monthly stats\n",
    "\n",
    "- Optional: Moving averages, heatwaves, etc."
   ]
  },
  {
   "cell_type": "markdown",
   "id": "56b1d789",
   "metadata": {},
   "source": [
    "### Step 1: Import Libraries"
   ]
  },
  {
   "cell_type": "code",
   "execution_count": null,
   "id": "6b9fcd28",
   "metadata": {},
   "outputs": [],
   "source": [
    "import numpy as np\n",
    "import calendar"
   ]
  },
  {
   "cell_type": "markdown",
   "id": "bcbe0f3c",
   "metadata": {},
   "source": [
    "### Step 2: Simulate a Year of Daily Temperature Data"
   ]
  },
  {
   "cell_type": "code",
   "execution_count": 9,
   "id": "29ae31e8",
   "metadata": {},
   "outputs": [],
   "source": [
    "# Simulate temperature for 365 days (°C)\n",
    "np.random.seed(42)  # for reproducibility\n",
    "temps = np.random.normal(loc=25, scale=5, size=365)  # avg temp: 25°C, std dev: 5\n",
    "temps = np.round(temps, 1)  # round to 1 decimal\n"
   ]
  },
  {
   "cell_type": "markdown",
   "id": "13d51827",
   "metadata": {},
   "source": [
    "### Step 3: Basic Stats"
   ]
  },
  {
   "cell_type": "code",
   "execution_count": 10,
   "id": "3349cdc0",
   "metadata": {},
   "outputs": [
    {
     "name": "stdout",
     "output_type": "stream",
     "text": [
      "Yearly Average Temperature: 25.05123287671233 °C\n",
      "Highest Temperature: 44.3 °C on Day 210\n",
      "Lowest Temperature: 8.8 °C on Day 263\n"
     ]
    }
   ],
   "source": [
    "print(\"Yearly Average Temperature:\", np.mean(temps), \"°C\")\n",
    "print(\"Highest Temperature:\", np.max(temps), \"°C on Day\", np.argmax(temps) + 1)\n",
    "print(\"Lowest Temperature:\", np.min(temps), \"°C on Day\", np.argmin(temps) + 1)\n"
   ]
  },
  {
   "cell_type": "markdown",
   "id": "0ef4bdf6",
   "metadata": {},
   "source": [
    "### Step 4: Group Data by Month"
   ]
  },
  {
   "cell_type": "code",
   "execution_count": 11,
   "id": "218a545c",
   "metadata": {},
   "outputs": [
    {
     "name": "stdout",
     "output_type": "stream",
     "text": [
      "January: 23.99 °C\n",
      "February: 24.29 °C\n",
      "February: 25.23 °C\n",
      "April: 24.90 °C\n",
      "May: 24.58 °C\n",
      "June: 26.46 °C\n",
      "July: 25.50 °C\n",
      "August: 24.88 °C\n",
      "September: 24.54 °C\n",
      "October: 25.32 °C\n",
      "November: 26.16 °C\n",
      "December: 24.75 °C\n"
     ]
    }
   ],
   "source": [
    "days_in_months = [31, 28, 31, 30, 31, 30, 31, 31, 30, 31, 30, 31]\n",
    "months = list(calendar.month_name)[1:]  # ['January', ..., 'December']\n",
    "\n",
    "monthly_avg = []\n",
    "start = 0\n",
    "for days in days_in_months:\n",
    "    end = start + days\n",
    "    month_avg = np.mean(temps[start:end])\n",
    "    monthly_avg.append(month_avg)\n",
    "    print(f\"{calendar.month_name[months.index(calendar.month_name[start//30+1])+1]}: {month_avg:.2f} °C\")\n",
    "    start = end\n"
   ]
  },
  {
   "cell_type": "markdown",
   "id": "d261f540",
   "metadata": {},
   "source": [
    "### Step 5: Optional – Moving Average (7-Day)"
   ]
  },
  {
   "cell_type": "code",
   "execution_count": 12,
   "id": "e203eea4",
   "metadata": {},
   "outputs": [
    {
     "name": "stdout",
     "output_type": "stream",
     "text": [
      "First 10 7-day moving averages: [27.59 27.77 27.54 27.47 26.06 25.9  26.24 23.74 21.97 21.9 ]\n"
     ]
    }
   ],
   "source": [
    "def moving_average(data, window_size):\n",
    "    return np.convolve(data, np.ones(window_size)/window_size, mode='valid')\n",
    "\n",
    "seven_day_avg = moving_average(temps, 7)\n",
    "print(\"First 10 7-day moving averages:\", np.round(seven_day_avg[:10], 2))\n"
   ]
  },
  {
   "cell_type": "markdown",
   "id": "d6ba3d78",
   "metadata": {},
   "source": [
    "###  Step 6: Detect \"Heatwave\" Days (e.g. temp > 35°C)"
   ]
  },
  {
   "cell_type": "code",
   "execution_count": 13,
   "id": "ae25b0a1",
   "metadata": {},
   "outputs": [
    {
     "name": "stdout",
     "output_type": "stream",
     "text": [
      "Heatwave days: [114 126 180 210 221 235 253 285 324]\n"
     ]
    }
   ],
   "source": [
    "heatwave_days = np.where(temps > 35)[0] + 1  # days are 1-indexed\n",
    "print(\"Heatwave days:\", heatwave_days)\n"
   ]
  },
  {
   "cell_type": "markdown",
   "id": "62f05a4a",
   "metadata": {},
   "source": [
    "### Optional: Save Results to File"
   ]
  },
  {
   "cell_type": "code",
   "execution_count": 14,
   "id": "cbeb6c03",
   "metadata": {},
   "outputs": [],
   "source": [
    "np.savetxt(\"yearly_temps.csv\", temps, delimiter=\",\", fmt=\"%.1f\")\n"
   ]
  }
 ],
 "metadata": {
  "kernelspec": {
   "display_name": "Python 3",
   "language": "python",
   "name": "python3"
  },
  "language_info": {
   "codemirror_mode": {
    "name": "ipython",
    "version": 3
   },
   "file_extension": ".py",
   "mimetype": "text/x-python",
   "name": "python",
   "nbconvert_exporter": "python",
   "pygments_lexer": "ipython3",
   "version": "3.12.0"
  }
 },
 "nbformat": 4,
 "nbformat_minor": 5
}
